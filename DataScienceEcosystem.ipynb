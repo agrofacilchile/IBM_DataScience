{
 "cells": [
  {
   "cell_type": "markdown",
   "id": "b2dee102",
   "metadata": {},
   "source": [
    "# Data Science Tools and Ecosystem"
   ]
  },
  {
   "cell_type": "markdown",
   "id": "9c2189d8",
   "metadata": {},
   "source": [
    "Welcome to this document with a litte description of course about Tools in Data Science.\n",
    "\n",
    "In this notebook, Data Science Tools and Ecosystem are summarized."
   ]
  },
  {
   "cell_type": "markdown",
   "id": "fbc534a3",
   "metadata": {},
   "source": [
    "**Objectives:**\n",
    "    \n",
    "This course will provide you knowledge about various tools that you can use to analyze data and derive conclusions.\n",
    "\n",
    "The main goal of the course is for you to be knowledgeable about the kinds of tools Data Scientists use, their examples, and get some hands-on time with a few key tools. covers the following topics:\n",
    "- Overview of Data Science Tools \n",
    "- Languages of Data Science \n",
    "- Libraries, APIs, Datasets and models\n",
    "- Jupyter Project\n",
    "- RStudio and GitHub"
   ]
  },
  {
   "cell_type": "markdown",
   "id": "30dcabbc",
   "metadata": {},
   "source": [
    "Some of the popular languages that Data Scientists use are:\n",
    "1. Python\n",
    "2. R\n",
    "3. SQL\n",
    "4. Scala\n",
    "5. Java\n",
    "6. C++\n",
    "7. Julia\n",
    "\n"
   ]
  },
  {
   "cell_type": "markdown",
   "id": "37564a48",
   "metadata": {},
   "source": [
    "Some of the commonly used libraries used by Data Scientists include:\n",
    "1. Pandas\n",
    "2. Numpy \n",
    "3. Matplotlib\n",
    "4. Seaborn\n",
    "5. Scikit-learn\n",
    "6. Keras\n",
    "7. TensorFlow"
   ]
  },
  {
   "cell_type": "markdown",
   "id": "8fe6b7ce",
   "metadata": {},
   "source": [
    "|Data Science Tools|\n",
    "|------------|\n",
    "|MySQL|\n",
    "|PostgreSQL|\n",
    "|MongoDB |\n",
    "|Apache AirFlow|\n",
    "|KubeFlow|\n",
    "|Pixie Dust|\n",
    "|Hue|\n",
    "|Seldon|\n",
    "|ModelDB|\n",
    "|GitHub|\n",
    "|GitLab|\n",
    "|Apache Atlas|\n"
   ]
  },
  {
   "cell_type": "markdown",
   "id": "0036b1e3",
   "metadata": {},
   "source": [
    "Below are a few examples of evaluating arithmetic expressions in Python.\n"
   ]
  },
  {
   "cell_type": "code",
   "execution_count": 12,
   "id": "58ab4bfa",
   "metadata": {},
   "outputs": [
    {
     "data": {
      "text/plain": [
       "115"
      ]
     },
     "execution_count": 12,
     "metadata": {},
     "output_type": "execute_result"
    }
   ],
   "source": [
    "100+15\n"
   ]
  },
  {
   "cell_type": "code",
   "execution_count": 13,
   "id": "22a2c503",
   "metadata": {},
   "outputs": [
    {
     "data": {
      "text/plain": [
       "180"
      ]
     },
     "execution_count": 13,
     "metadata": {},
     "output_type": "execute_result"
    }
   ],
   "source": [
    "200-20\n"
   ]
  },
  {
   "cell_type": "code",
   "execution_count": 14,
   "id": "65114afe",
   "metadata": {},
   "outputs": [
    {
     "data": {
      "text/plain": [
       "250.0"
      ]
     },
     "execution_count": 14,
     "metadata": {},
     "output_type": "execute_result"
    }
   ],
   "source": [
    "(100*5)/2"
   ]
  },
  {
   "cell_type": "code",
   "execution_count": 15,
   "id": "2bf7aee9",
   "metadata": {},
   "outputs": [
    {
     "name": "stdout",
     "output_type": "stream",
     "text": [
      "115\n",
      "180\n",
      "250.0\n"
     ]
    }
   ],
   "source": [
    "print (100+15)\n",
    "print (200-20)\n",
    "print ((100*5)/2)\n"
   ]
  },
  {
   "cell_type": "code",
   "execution_count": 16,
   "id": "b9263c3b",
   "metadata": {},
   "outputs": [
    {
     "data": {
      "text/plain": [
       "17"
      ]
     },
     "execution_count": 16,
     "metadata": {},
     "output_type": "execute_result"
    }
   ],
   "source": [
    "# This a simple arithmetic expression to mutiply then add integers\n",
    "(3*4)+5\n"
   ]
  },
  {
   "cell_type": "code",
   "execution_count": 17,
   "id": "93c2227d",
   "metadata": {},
   "outputs": [
    {
     "name": "stdout",
     "output_type": "stream",
     "text": [
      "3.3333333333333335\n",
      "3 : 20\n"
     ]
    }
   ],
   "source": [
    "# This will convert 200 minutes to hours by diving by 60\n",
    "# first solution: hours and fraction of hour\n",
    "minutes=200\n",
    "hours=minutes/60\n",
    "print (hours) # hours and fraction of hour\n",
    "# another solution: hours and minutes\n",
    "hora=int(hours)\n",
    "rest_minutes=minutes-(hora*60)\n",
    "print (hora,\":\",rest_minutes) # hours:minutes"
   ]
  },
  {
   "cell_type": "markdown",
   "id": "f5f2a015",
   "metadata": {},
   "source": [
    "## Author:\n",
    "José Ramírez Cabello"
   ]
  }
 ],
 "metadata": {
  "kernelspec": {
   "display_name": "Python 3 (ipykernel)",
   "language": "python",
   "name": "python3"
  },
  "language_info": {
   "codemirror_mode": {
    "name": "ipython",
    "version": 3
   },
   "file_extension": ".py",
   "mimetype": "text/x-python",
   "name": "python",
   "nbconvert_exporter": "python",
   "pygments_lexer": "ipython3",
   "version": "3.10.9"
  }
 },
 "nbformat": 4,
 "nbformat_minor": 5
}
